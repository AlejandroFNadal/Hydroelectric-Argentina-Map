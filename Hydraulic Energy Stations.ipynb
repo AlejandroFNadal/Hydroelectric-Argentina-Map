{
 "cells": [
  {
   "cell_type": "markdown",
   "metadata": {},
   "source": [
    "# Making a map of hydroelectric stations in Argentina\n",
    "\n",
    "I will be using Pandas, GeoPandas, and MatplotLib\n",
    "\n",
    "The data of the hydroelectric stations was obtained through the argentinian government website. \n",
    "\n",
    "The political argentinian map was obtained here: https://map.igismap.com/analysis/map/13749/gisData757"
   ]
  },
  {
   "cell_type": "code",
   "execution_count": 1,
   "metadata": {},
   "outputs": [],
   "source": [
    "import geopandas as gpd\n",
    "%matplotlib inline"
   ]
  },
  {
   "cell_type": "code",
   "execution_count": 2,
   "metadata": {
    "scrolled": true
   },
   "outputs": [
    {
     "name": "stderr",
     "output_type": "stream",
     "text": [
      "/home/ale/.local/lib/python3.7/site-packages/geopandas/geodataframe.py:577: RuntimeWarning: Sequential read of iterator was interrupted. Resetting iterator. This can negatively impact the performance.\n",
      "  for feature in features_lst:\n"
     ]
    }
   ],
   "source": [
    "argentina = gpd.read_file('estacioneslatlong.csv')\n"
   ]
  },
  {
   "cell_type": "markdown",
   "metadata": {},
   "source": [
    "This is the original file structure. We need to change this into a proper GeoDataFrame"
   ]
  },
  {
   "cell_type": "code",
   "execution_count": 3,
   "metadata": {},
   "outputs": [
    {
     "data": {
      "text/html": [
       "<div>\n",
       "<style scoped>\n",
       "    .dataframe tbody tr th:only-of-type {\n",
       "        vertical-align: middle;\n",
       "    }\n",
       "\n",
       "    .dataframe tbody tr th {\n",
       "        vertical-align: top;\n",
       "    }\n",
       "\n",
       "    .dataframe thead th {\n",
       "        text-align: right;\n",
       "    }\n",
       "</style>\n",
       "<table border=\"1\" class=\"dataframe\">\n",
       "  <thead>\n",
       "    <tr style=\"text-align: right;\">\n",
       "      <th></th>\n",
       "      <th>Nombre</th>\n",
       "      <th>LAT</th>\n",
       "      <th>LONG</th>\n",
       "      <th>geometry</th>\n",
       "    </tr>\n",
       "  </thead>\n",
       "  <tbody>\n",
       "    <tr>\n",
       "      <th>0</th>\n",
       "      <td>Caimancito</td>\n",
       "      <td>-23.71</td>\n",
       "      <td>-64.54</td>\n",
       "      <td>None</td>\n",
       "    </tr>\n",
       "    <tr>\n",
       "      <th>1</th>\n",
       "      <td>Sayate</td>\n",
       "      <td>-22.90</td>\n",
       "      <td>-65.85</td>\n",
       "      <td>None</td>\n",
       "    </tr>\n",
       "    <tr>\n",
       "      <th>2</th>\n",
       "      <td>TINOGASTA</td>\n",
       "      <td>-28.08</td>\n",
       "      <td>-67.58</td>\n",
       "      <td>None</td>\n",
       "    </tr>\n",
       "    <tr>\n",
       "      <th>3</th>\n",
       "      <td>CABO SAN MIGUEL</td>\n",
       "      <td>-27.40</td>\n",
       "      <td>-65.98</td>\n",
       "      <td>None</td>\n",
       "    </tr>\n",
       "    <tr>\n",
       "      <th>4</th>\n",
       "      <td>Pie de Medano</td>\n",
       "      <td>-27.00</td>\n",
       "      <td>-66.22</td>\n",
       "      <td>None</td>\n",
       "    </tr>\n",
       "  </tbody>\n",
       "</table>\n",
       "</div>"
      ],
      "text/plain": [
       "            Nombre     LAT    LONG geometry\n",
       "0       Caimancito  -23.71  -64.54     None\n",
       "1           Sayate  -22.90  -65.85     None\n",
       "2        TINOGASTA  -28.08  -67.58     None\n",
       "3  CABO SAN MIGUEL  -27.40  -65.98     None\n",
       "4    Pie de Medano  -27.00  -66.22     None"
      ]
     },
     "execution_count": 3,
     "metadata": {},
     "output_type": "execute_result"
    }
   ],
   "source": [
    "argentina.head()"
   ]
  },
  {
   "cell_type": "markdown",
   "metadata": {},
   "source": [
    "The next function will create our geometry column"
   ]
  },
  {
   "cell_type": "code",
   "execution_count": 4,
   "metadata": {},
   "outputs": [],
   "source": [
    "argentina['geometry']=gpd.points_from_xy(argentina.LONG, argentina.LAT)"
   ]
  },
  {
   "cell_type": "code",
   "execution_count": 5,
   "metadata": {},
   "outputs": [
    {
     "data": {
      "text/html": [
       "<div>\n",
       "<style scoped>\n",
       "    .dataframe tbody tr th:only-of-type {\n",
       "        vertical-align: middle;\n",
       "    }\n",
       "\n",
       "    .dataframe tbody tr th {\n",
       "        vertical-align: top;\n",
       "    }\n",
       "\n",
       "    .dataframe thead th {\n",
       "        text-align: right;\n",
       "    }\n",
       "</style>\n",
       "<table border=\"1\" class=\"dataframe\">\n",
       "  <thead>\n",
       "    <tr style=\"text-align: right;\">\n",
       "      <th></th>\n",
       "      <th>Nombre</th>\n",
       "      <th>LAT</th>\n",
       "      <th>LONG</th>\n",
       "      <th>geometry</th>\n",
       "    </tr>\n",
       "  </thead>\n",
       "  <tbody>\n",
       "    <tr>\n",
       "      <th>0</th>\n",
       "      <td>Caimancito</td>\n",
       "      <td>-23.71</td>\n",
       "      <td>-64.54</td>\n",
       "      <td>POINT (-64.54000 -23.71000)</td>\n",
       "    </tr>\n",
       "    <tr>\n",
       "      <th>1</th>\n",
       "      <td>Sayate</td>\n",
       "      <td>-22.90</td>\n",
       "      <td>-65.85</td>\n",
       "      <td>POINT (-65.85000 -22.90000)</td>\n",
       "    </tr>\n",
       "    <tr>\n",
       "      <th>2</th>\n",
       "      <td>TINOGASTA</td>\n",
       "      <td>-28.08</td>\n",
       "      <td>-67.58</td>\n",
       "      <td>POINT (-67.58000 -28.08000)</td>\n",
       "    </tr>\n",
       "    <tr>\n",
       "      <th>3</th>\n",
       "      <td>CABO SAN MIGUEL</td>\n",
       "      <td>-27.40</td>\n",
       "      <td>-65.98</td>\n",
       "      <td>POINT (-65.98000 -27.40000)</td>\n",
       "    </tr>\n",
       "    <tr>\n",
       "      <th>4</th>\n",
       "      <td>Pie de Medano</td>\n",
       "      <td>-27.00</td>\n",
       "      <td>-66.22</td>\n",
       "      <td>POINT (-66.22000 -27.00000)</td>\n",
       "    </tr>\n",
       "  </tbody>\n",
       "</table>\n",
       "</div>"
      ],
      "text/plain": [
       "            Nombre     LAT    LONG                     geometry\n",
       "0       Caimancito  -23.71  -64.54  POINT (-64.54000 -23.71000)\n",
       "1           Sayate  -22.90  -65.85  POINT (-65.85000 -22.90000)\n",
       "2        TINOGASTA  -28.08  -67.58  POINT (-67.58000 -28.08000)\n",
       "3  CABO SAN MIGUEL  -27.40  -65.98  POINT (-65.98000 -27.40000)\n",
       "4    Pie de Medano  -27.00  -66.22  POINT (-66.22000 -27.00000)"
      ]
     },
     "execution_count": 5,
     "metadata": {},
     "output_type": "execute_result"
    }
   ],
   "source": [
    "argentina.head()"
   ]
  },
  {
   "cell_type": "code",
   "execution_count": 6,
   "metadata": {},
   "outputs": [
    {
     "data": {
      "image/png": "[encoded data removed]",
      "text/plain": [
       "<Figure size 432x288 with 1 Axes>"
      ]
     },
     "metadata": {
      "needs_background": "light"
     },
     "output_type": "display_data"
    }
   ],
   "source": [
    "ax = argentina.plot(color = 'red')"
   ]
  },
  {
   "cell_type": "markdown",
   "metadata": {},
   "source": [
    "There are the argentinian hydraulic energy stations. But this map is sort of lacking something: an actual political map. Lets put one there. "
   ]
  },
  {
   "cell_type": "code",
   "execution_count": 7,
   "metadata": {},
   "outputs": [
    {
     "name": "stderr",
     "output_type": "stream",
     "text": [
      "/home/ale/.local/lib/python3.7/site-packages/geopandas/geodataframe.py:577: RuntimeWarning: Sequential read of iterator was interrupted. Resetting iterator. This can negatively impact the performance.\n",
      "  for feature in features_lst:\n"
     ]
    }
   ],
   "source": [
    "gpd.io.file.fiona.drvsupport.supported_drivers['KML'] = 'rw'\n",
    "political_argentina_map = gpd.read_file('argentina_administrative_boundaries_province_polygon.kml', driver='KML')"
   ]
  },
  {
   "cell_type": "code",
   "execution_count": 8,
   "metadata": {},
   "outputs": [
    {
     "data": {
      "text/html": [
       "<div>\n",
       "<style scoped>\n",
       "    .dataframe tbody tr th:only-of-type {\n",
       "        vertical-align: middle;\n",
       "    }\n",
       "\n",
       "    .dataframe tbody tr th {\n",
       "        vertical-align: top;\n",
       "    }\n",
       "\n",
       "    .dataframe thead th {\n",
       "        text-align: right;\n",
       "    }\n",
       "</style>\n",
       "<table border=\"1\" class=\"dataframe\">\n",
       "  <thead>\n",
       "    <tr style=\"text-align: right;\">\n",
       "      <th></th>\n",
       "      <th>Name</th>\n",
       "      <th>Description</th>\n",
       "      <th>geometry</th>\n",
       "    </tr>\n",
       "  </thead>\n",
       "  <tbody>\n",
       "    <tr>\n",
       "      <th>0</th>\n",
       "      <td>Tierra del Fuego</td>\n",
       "      <td></td>\n",
       "      <td>POLYGON ((-68.26651 -54.86977, -68.26557 -54.8...</td>\n",
       "    </tr>\n",
       "    <tr>\n",
       "      <th>1</th>\n",
       "      <td>Tierra del Fuego</td>\n",
       "      <td></td>\n",
       "      <td>POLYGON ((-68.25848 -54.84744, -68.25846 -54.8...</td>\n",
       "    </tr>\n",
       "    <tr>\n",
       "      <th>2</th>\n",
       "      <td>Tierra del Fuego</td>\n",
       "      <td></td>\n",
       "      <td>POLYGON ((-68.24592 -54.87810, -68.24577 -54.8...</td>\n",
       "    </tr>\n",
       "    <tr>\n",
       "      <th>3</th>\n",
       "      <td>Tierra del Fuego</td>\n",
       "      <td></td>\n",
       "      <td>POLYGON ((-68.25344 -54.87510, -68.25320 -54.8...</td>\n",
       "    </tr>\n",
       "    <tr>\n",
       "      <th>4</th>\n",
       "      <td>Tierra del Fuego</td>\n",
       "      <td></td>\n",
       "      <td>POLYGON ((-68.24273 -54.85912, -68.24228 -54.8...</td>\n",
       "    </tr>\n",
       "  </tbody>\n",
       "</table>\n",
       "</div>"
      ],
      "text/plain": [
       "               Name Description  \\\n",
       "0  Tierra del Fuego               \n",
       "1  Tierra del Fuego               \n",
       "2  Tierra del Fuego               \n",
       "3  Tierra del Fuego               \n",
       "4  Tierra del Fuego               \n",
       "\n",
       "                                            geometry  \n",
       "0  POLYGON ((-68.26651 -54.86977, -68.26557 -54.8...  \n",
       "1  POLYGON ((-68.25848 -54.84744, -68.25846 -54.8...  \n",
       "2  POLYGON ((-68.24592 -54.87810, -68.24577 -54.8...  \n",
       "3  POLYGON ((-68.25344 -54.87510, -68.25320 -54.8...  \n",
       "4  POLYGON ((-68.24273 -54.85912, -68.24228 -54.8...  "
      ]
     },
     "execution_count": 8,
     "metadata": {},
     "output_type": "execute_result"
    }
   ],
   "source": [
    "political_argentina_map.head()"
   ]
  },
  {
   "cell_type": "code",
   "execution_count": 27,
   "metadata": {},
   "outputs": [
    {
     "data": {
      "text/plain": [
       "<AxesSubplot:title={'center':'Hydroelectric stations in Argentina'}>"
      ]
     },
     "execution_count": 27,
     "metadata": {},
     "output_type": "execute_result"
    },
    {
     "data": {
      "image/png": "[encoded data removed]",
      "text/plain": [
       "<Figure size 1080x648 with 1 Axes>"
      ]
     },
     "metadata": {
      "needs_background": "light"
     },
     "output_type": "display_data"
    }
   ],
   "source": [
    "ax = political_argentina_map.plot(color='green', markersize = 1,zorder=0, figsize=(15,9))\n",
    "ax.set_title('Hydroelectric stations in Argentina')\n",
    "minx, miny, maxx, maxy = political_argentina_map.geometry.total_bounds\n",
    "argentina.plot(color = 'red', ax=ax)\n"
   ]
  },
  {
   "cell_type": "code",
   "execution_count": 10,
   "metadata": {},
   "outputs": [
    {
     "data": {
      "text/plain": [
       "<AxesSubplot:>"
      ]
     },
     "execution_count": 10,
     "metadata": {},
     "output_type": "execute_result"
    },
    {
     "data": {
      "text/plain": [
       "<Figure size 432x288 with 0 Axes>"
      ]
     },
     "metadata": {},
     "output_type": "display_data"
    }
   ],
   "source": []
  },
  {
   "cell_type": "code",
   "execution_count": null,
   "metadata": {},
   "outputs": [],
   "source": []
  }
 ],
 "metadata": {
  "kernelspec": {
   "display_name": "Python 3",
   "language": "python",
   "name": "python3"
  },
  "language_info": {
   "codemirror_mode": {
    "name": "ipython",
    "version": 3
   },
   "file_extension": ".py",
   "mimetype": "text/x-python",
   "name": "python",
   "nbconvert_exporter": "python",
   "pygments_lexer": "ipython3",
   "version": "3.7.3"
  }
 },
 "nbformat": 4,
 "nbformat_minor": 4
}
